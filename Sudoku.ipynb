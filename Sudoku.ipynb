{
 "cells": [
  {
   "cell_type": "code",
   "execution_count": 13,
   "metadata": {},
   "outputs": [],
   "source": [
    "board = [[5, 3, 0, 0, 7, 0, 0, 0, 0],\n",
    "         [6, 0, 0, 1, 9, 5, 0, 0, 0],\n",
    "         [0, 9, 8, 0, 0, 0, 0, 6, 0],\n",
    "         [8, 0, 0, 0, 6, 0, 0, 0, 3],\n",
    "         [4, 0, 0, 8, 0, 3, 0, 0, 1],\n",
    "         [7, 0, 0, 0, 2, 0, 0, 0, 6],\n",
    "         [0, 6, 0, 0, 0, 0, 2, 8, 0],\n",
    "         [0, 0, 0, 4, 1, 9, 0, 0, 5],\n",
    "         [0, 0, 0, 0, 8, 0, 0, 7, 9]]"
   ]
  },
  {
   "cell_type": "code",
   "execution_count": 14,
   "metadata": {},
   "outputs": [
    {
     "name": "stdout",
     "output_type": "stream",
     "text": [
      "[[5, 3, 0, 0, 7, 0, 0, 0, 0], [6, 0, 0, 1, 9, 5, 0, 0, 0], [0, 9, 8, 0, 0, 0, 0, 6, 0], [8, 0, 0, 0, 6, 0, 0, 0, 3], [4, 0, 0, 8, 0, 3, 0, 0, 1], [7, 0, 0, 0, 2, 0, 0, 0, 6], [0, 6, 0, 0, 0, 0, 2, 8, 0], [0, 0, 0, 4, 1, 9, 0, 0, 5], [0, 0, 0, 0, 8, 0, 0, 7, 9]]\n"
     ]
    }
   ],
   "source": [
    "print(board)"
   ]
  },
  {
   "cell_type": "code",
   "execution_count": 15,
   "metadata": {
    "scrolled": true
   },
   "outputs": [
    {
     "name": "stdout",
     "output_type": "stream",
     "text": [
      "[[5 3 0 0 7 0 0 0 0]\n",
      " [6 0 0 1 9 5 0 0 0]\n",
      " [0 9 8 0 0 0 0 6 0]\n",
      " [8 0 0 0 6 0 0 0 3]\n",
      " [4 0 0 8 0 3 0 0 1]\n",
      " [7 0 0 0 2 0 0 0 6]\n",
      " [0 6 0 0 0 0 2 8 0]\n",
      " [0 0 0 4 1 9 0 0 5]\n",
      " [0 0 0 0 8 0 0 7 9]]\n"
     ]
    }
   ],
   "source": [
    "import numpy as np\n",
    "print(np.matrix(board))"
   ]
  },
  {
   "cell_type": "code",
   "execution_count": 16,
   "metadata": {},
   "outputs": [
    {
     "data": {
      "text/plain": [
       "'\\nY will represent the row number of the selected cell\\nX will represent the column position in that row(Y) \\nN will be the possible number(1-9) which can be placed in that cell\\n\\n'"
      ]
     },
     "execution_count": 16,
     "metadata": {},
     "output_type": "execute_result"
    }
   ],
   "source": [
    "\"\"\"\n",
    "Y will represent the row number of the selected cell\n",
    "X will represent the column position in that row(Y) \n",
    "N will be the possible number(1-9) which can be placed in that cell\n",
    "\n",
    "\"\"\""
   ]
  },
  {
   "cell_type": "code",
   "execution_count": 17,
   "metadata": {},
   "outputs": [],
   "source": [
    "# always the y first then x because this is how the indices appear(in order) in a sysytem\n",
    "def possible(y, x, n):\n",
    "    global board # declared globally so that we can modify it \n",
    "    for i in range(0, 9):\n",
    "        if board[y][i] == n: #check if n is already present in whole column \n",
    "            return False \n",
    "    for i in range(0, 9):\n",
    "        if board[i][x] == n: #check if n is already present in whole row \n",
    "            return False\n",
    "    \n",
    "    # now check in the 3*3 matrix \n",
    "    \n",
    "    x0 = (x//3) * 3 #check the output to understand what this does \n",
    "    y0 = (y//3) * 3\n",
    "    \n",
    "    for i in range(0, 3):\n",
    "        for j in range(0, 3):\n",
    "            if board[y0 + i][x0 + j] == n:\n",
    "                return False\n",
    "        # If these condition are false implies that n can be a possible solution\n",
    "        # for that cell, hence return true \n",
    "    return True\n",
    "    "
   ]
  },
  {
   "cell_type": "code",
   "execution_count": 18,
   "metadata": {},
   "outputs": [
    {
     "data": {
      "text/plain": [
       "False"
      ]
     },
     "execution_count": 18,
     "metadata": {},
     "output_type": "execute_result"
    }
   ],
   "source": [
    "possible(4, 6, 3)"
   ]
  },
  {
   "cell_type": "code",
   "execution_count": 19,
   "metadata": {},
   "outputs": [],
   "source": [
    "def solve():\n",
    "    global board\n",
    "    for y in range(0, 9):\n",
    "        for x in range(0, 9):\n",
    "            if board[y][x] == 0:\n",
    "                for n in range(1, 10):\n",
    "                    if possible(y, x, n):\n",
    "                        board[y][x] = n\n",
    "                        solve()\n",
    "                        board[y][x] = 0 #backtrack \n",
    "                return \n",
    "    print(np.matrix(board)) \n",
    "    input(\"Other Solution?\")"
   ]
  },
  {
   "cell_type": "code",
   "execution_count": 20,
   "metadata": {},
   "outputs": [
    {
     "name": "stdout",
     "output_type": "stream",
     "text": [
      "[[5 3 4 6 7 8 9 1 2]\n",
      " [6 7 2 1 9 5 3 4 8]\n",
      " [1 9 8 3 4 2 5 6 7]\n",
      " [8 5 9 7 6 1 4 2 3]\n",
      " [4 2 6 8 5 3 7 9 1]\n",
      " [7 1 3 9 2 4 8 5 6]\n",
      " [9 6 1 5 3 7 2 8 4]\n",
      " [2 8 7 4 1 9 6 3 5]\n",
      " [3 4 5 2 8 6 1 7 9]]\n",
      "Other Solution?\n"
     ]
    }
   ],
   "source": [
    "solve()"
   ]
  },
  {
   "cell_type": "code",
   "execution_count": null,
   "metadata": {},
   "outputs": [],
   "source": []
  }
 ],
 "metadata": {
  "kernelspec": {
   "display_name": "Python 3",
   "language": "python",
   "name": "python3"
  },
  "language_info": {
   "codemirror_mode": {
    "name": "ipython",
    "version": 3
   },
   "file_extension": ".py",
   "mimetype": "text/x-python",
   "name": "python",
   "nbconvert_exporter": "python",
   "pygments_lexer": "ipython3",
   "version": "3.8.5"
  }
 },
 "nbformat": 4,
 "nbformat_minor": 4
}
